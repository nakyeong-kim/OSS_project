{
  "nbformat": 4,
  "nbformat_minor": 0,
  "metadata": {
    "colab": {
      "provenance": [],
      "authorship_tag": "ABX9TyMDM/bl50x/ITgRJOaT5fja",
      "include_colab_link": true
    },
    "kernelspec": {
      "name": "python3",
      "display_name": "Python 3"
    },
    "language_info": {
      "name": "python"
    }
  },
  "cells": [
    {
      "cell_type": "markdown",
      "metadata": {
        "id": "view-in-github",
        "colab_type": "text"
      },
      "source": [
        "<a href=\"https://colab.research.google.com/github/nakyeong-kim/OSS_project/blob/main/%5BOSS_project%5Dgif_converter.ipynb\" target=\"_parent\"><img src=\"https://colab.research.google.com/assets/colab-badge.svg\" alt=\"Open In Colab\"/></a>"
      ]
    },
    {
      "cell_type": "markdown",
      "source": [
        "# [OSS project] GIF Coverter\n",
        "\n",
        "### 정적이미지(JPG, PNG) → GIF(애니메이션) 이미지 변환 패키지\n",
        "<br><br><br>"
      ],
      "metadata": {
        "id": "zNrLKIEaWS7S"
      }
    },
    {
      "cell_type": "code",
      "source": [
        "# !pip install Image\n",
        "\n",
        "import glob\n",
        "from PIL import Image\n",
        "\n",
        "# 원본 이미지, 결과 이미 생성 경로\n",
        "path_in = './project/images/*.png'\n",
        "path_out = './project/images_out/result.gif'\n",
        "\n",
        "# 첫번째 이미지, 나머지 이미지 리스트 패킹 & resize\n",
        "img, *images = [Image.open(f).resize((320, 240), Image.ANTIALIAS) for f in sorted(glob.glob(path_in))]\n",
        "\n",
        "# 이미지 저장\n",
        "img.save(\n",
        "    fp=path_out,\n",
        "    format='GIF',\n",
        "    append_images=images,\n",
        "    save_all=True,\n",
        "    duration=500,\n",
        "    loop=0\n",
        ")"
      ],
      "metadata": {
        "colab": {
          "base_uri": "https://localhost:8080/"
        },
        "id": "6DELepBJYVZr",
        "outputId": "9ee42feb-5d46-4785-cd66-b20f84b5737c"
      },
      "execution_count": 15,
      "outputs": [
        {
          "output_type": "stream",
          "name": "stderr",
          "text": [
            "<ipython-input-15-b0b738639262>:11: DeprecationWarning: ANTIALIAS is deprecated and will be removed in Pillow 10 (2023-07-01). Use LANCZOS or Resampling.LANCZOS instead.\n",
            "  img, *images = [Image.open(f).resize((320, 240), Image.ANTIALIAS) for f in sorted(glob.glob(path_in))]\n"
          ]
        }
      ]
    }
  ]
}