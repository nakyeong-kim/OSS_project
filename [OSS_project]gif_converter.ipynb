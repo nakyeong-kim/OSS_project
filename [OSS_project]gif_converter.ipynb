{
  "nbformat": 4,
  "nbformat_minor": 0,
  "metadata": {
    "colab": {
      "provenance": [],
      "authorship_tag": "ABX9TyOQcWm19M/FFgZFBDJYMQky",
      "include_colab_link": true
    },
    "kernelspec": {
      "name": "python3",
      "display_name": "Python 3"
    },
    "language_info": {
      "name": "python"
    }
  },
  "cells": [
    {
      "cell_type": "markdown",
      "metadata": {
        "id": "view-in-github",
        "colab_type": "text"
      },
      "source": [
        "<a href=\"https://colab.research.google.com/github/nakyeong-kim/OSS_project/blob/main/%5BOSS_project%5Dgif_converter.ipynb\" target=\"_parent\"><img src=\"https://colab.research.google.com/assets/colab-badge.svg\" alt=\"Open In Colab\"/></a>"
      ]
    },
    {
      "cell_type": "markdown",
      "source": [
        "# [OSS project] GIF Coverter\n",
        "\n",
        "### 정적이미지(JPG, PNG) → GIF(애니메이션) 이미지 변환 패키지\n",
        "<br><br><br>"
      ],
      "metadata": {
        "id": "zNrLKIEaWS7S"
      }
    },
    {
      "cell_type": "code",
      "source": [
        "# !pip install Image\n",
        "\n",
        "import glob\n",
        "from PIL import Image\n",
        "\n",
        "# 원본 이미지, 결과 이미 생성 경로\n",
        "path_in = './project/images/*.png'\n",
        "path_out = './project/image_out/result.gif'\n",
        "\n",
        "# 첫번째 이미지, 나머지 이미지 리스트 패킹 & resize\n",
        "img, *images = [Image.open(f).resize((320, 240), Image.ANTIALIAS) for f in sorted(glob.glob(path_in))]\n",
        "\n",
        "# 이미지 저장\n",
        "img.save(\n",
        "    fp=path_out,\n",
        "    format='GIF',\n",
        "    append_images=images,\n",
        "    save_all=True,\n",
        "    duration=500,\n",
        "    loop=0\n",
        ")"
      ],
      "metadata": {
        "colab": {
          "base_uri": "https://localhost:8080/"
        },
        "id": "6DELepBJYVZr",
        "outputId": "91f9a46c-ba12-4cc8-ff1b-50f09234743d"
      },
      "execution_count": 1,
      "outputs": [
        {
          "output_type": "stream",
          "name": "stderr",
          "text": [
            "<ipython-input-1-54ecc03adbd0>:11: DeprecationWarning: ANTIALIAS is deprecated and will be removed in Pillow 10 (2023-07-01). Use LANCZOS or Resampling.LANCZOS instead.\n",
            "  img, *images = [Image.open(f).resize((320, 240), Image.ANTIALIAS) for f in sorted(glob.glob(path_in))]\n"
          ]
        }
      ]
    },
    {
      "cell_type": "code",
      "source": [
        "import glob\n",
        "from PIL import Image\n",
        "\n",
        "class GifConverter:\n",
        "  def __init__(self, path_in=None, path_out=None, resize=(320, 240)):\n",
        "    \"\"\"\n",
        "    path_in : 원본 여러 이미지 경로(Ex: images/*.png)\n",
        "    path_out : 결과 이미지 경로(Ex : output/filename.gif)\n",
        "    resize : 리사이징 크기((320, 240))\n",
        "    \"\"\"\n",
        "    self.path_in = path_in or './*.png'   # 에러를 줄이기 위한 예외 처리\n",
        "    self.path_out = path_out or './output.gif'\n",
        "    self.resize = resize\n",
        "\n",
        "  def convert_gif(self):\n",
        "    \"\"\"\n",
        "    GIF 이미지 변환 기능 수행\n",
        "    \"\"\"\n",
        "    print(self.path_in, self.path_out, self.resize)   # 배포 시에는 logging 사용\n",
        "\n",
        "    img, *images = \\\n",
        "    [Image.open(f).resize(self.resize, Image.ANTIALIAS) for f in sorted(glob.glob(self.path_in))]\n",
        "\n",
        "    try:\n",
        "      img.save(\n",
        "          fp=self.path_out,\n",
        "          format='GIF',\n",
        "          append_images=images,\n",
        "          save_all=True,\n",
        "          duration=500,\n",
        "          loop=0\n",
        "      )\n",
        "    except IOError:\n",
        "      print('Cannot convert!', img)\n",
        "\n",
        "\n",
        "if __name__ == '__main__':  # 이 파일을 직접 실행할 때에만 실행됨. 다른 사람이 import했을 때에는 main이 아니므로 직접 호출할 때까지 실행되지 않음.\n",
        "  c = GifConverter('./project/images/*.png', './project/image_out/result.gif', (320, 240))\n",
        "  c.convert_gif()\n",
        "\n",
        "  print(GifConverter.__init__.__doc__)\n",
        "  print(GifConverter.convert_gif.__doc__)"
      ],
      "metadata": {
        "colab": {
          "base_uri": "https://localhost:8080/"
        },
        "id": "uIclteK66Juz",
        "outputId": "37eb1366-493f-47c0-d1a3-5529811d8d0e"
      },
      "execution_count": 2,
      "outputs": [
        {
          "output_type": "stream",
          "name": "stderr",
          "text": [
            "<ipython-input-2-1fc9a7b6792c>:22: DeprecationWarning: ANTIALIAS is deprecated and will be removed in Pillow 10 (2023-07-01). Use LANCZOS or Resampling.LANCZOS instead.\n",
            "  [Image.open(f).resize(self.resize, Image.ANTIALIAS) for f in sorted(glob.glob(self.path_in))]\n"
          ]
        },
        {
          "output_type": "stream",
          "name": "stdout",
          "text": [
            "./project/images/*.png ./project/image_out/result.gif (320, 240)\n",
            "\n",
            "    path_in : 원본 여러 이미지 경로(Ex: images/*.png)\n",
            "    path_out : 결과 이미지 경로(Ex : output/filename.gif)\n",
            "    resize : 리사이징 크기((320, 240))\n",
            "    \n",
            "\n",
            "    GIF 이미지 변환 기능 수행\n",
            "    \n"
          ]
        }
      ]
    }
  ]
}